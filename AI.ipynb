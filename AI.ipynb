{
  "nbformat": 4,
  "nbformat_minor": 0,
  "metadata": {
    "colab": {
      "provenance": []
    },
    "kernelspec": {
      "name": "python3",
      "display_name": "Python 3"
    },
    "language_info": {
      "name": "python"
    }
  },
  "cells": [
    {
      "cell_type": "code",
      "execution_count": null,
      "metadata": {
        "colab": {
          "base_uri": "https://localhost:8080/"
        },
        "id": "YPhx-3aiBLLR",
        "outputId": "cb95dd45-1910-4f4e-ff9f-c55c6a7e2353"
      },
      "outputs": [
        {
          "output_type": "stream",
          "name": "stdout",
          "text": [
            "Student\tHeight\tWeight\tAge\tAvg Grade\tCourses\n",
            "Student 1\t170\t65\t19\t85\t\t5\n",
            "Student 2\t180\t75\t20\t90\t\t6\n",
            "Student 3\t160\t55\t18\t80\t\t4\n",
            "Student 4\t175\t70\t21\t88\t\t7\n",
            "Student 5\t155\t50\t19\t82\t\t5\n",
            "Student 6\t165\t62\t22\t89\t\t6\n",
            "Student 7\t178\t80\t23\t91\t\t7\n",
            "Student 8\t162\t58\t20\t78\t\t3\n",
            "Student 9\t172\t68\t19\t86\t\t5\n",
            "Student 10\t169\t66\t20\t84\t\t4\n",
            "Student 11\t171\t64\t22\t87\t\t6\n",
            "Student 12\t177\t72\t21\t90\t\t9\n",
            "Student 13\t174\t76\t24\t88\t\t8\n",
            "Student 14\t158\t52\t18\t75\t\t3\n",
            "Student 15\t164\t63\t19\t81\t\t4\n"
          ]
        }
      ],
      "source": [
        "import numpy as np\n",
        "# Creating a dataset with 15 students and 5 attributes\n",
        "data = np.array([\n",
        "    [170, 65, 19, 85, 5],\n",
        "    [180, 75, 20, 90, 6],\n",
        "    [160, 55, 18, 80, 4],\n",
        "    [175, 70, 21, 88, 7],\n",
        "    [155, 50, 19, 82, 5],\n",
        "    [165, 62, 22, 89, 6],\n",
        "    [178, 80, 23, 91, 7],\n",
        "    [162, 58, 20, 78, 3],\n",
        "    [172, 68, 19, 86, 5],\n",
        "    [169, 66, 20, 84, 4],\n",
        "    [171, 64, 22, 87, 6],\n",
        "    [177, 72, 21, 90, 9],\n",
        "    [174, 76, 24, 88, 8],\n",
        "    [158, 52, 18, 75, 3],\n",
        "    [164, 63, 19, 81, 4]\n",
        "])\n",
        "\n",
        "# Printing the dataset with student labels\n",
        "print(\"Student\\tHeight\\tWeight\\tAge\\tAvg Grade\\tCourses\")\n",
        "for index, student in enumerate(data):\n",
        "    print(f\"Student {index + 1}\\t{student[0]}\\t{student[1]}\\t{student[2]}\\t{student[3]}\\t\\t{student[4]}\")"
      ]
    },
    {
      "cell_type": "code",
      "source": [
        "heights = data[:, 0]\n",
        "average_height = np.mean(heights)\n",
        "\n",
        "print(f\"The average height of the students is {average_height:.2f} cm\")"
      ],
      "metadata": {
        "colab": {
          "base_uri": "https://localhost:8080/"
        },
        "id": "kZIEB23mByGu",
        "outputId": "82145944-5ce4-4b67-d91b-2fcc122d182b"
      },
      "execution_count": null,
      "outputs": [
        {
          "output_type": "stream",
          "name": "stdout",
          "text": [
            "The average height of the students is 168.67 cm\n"
          ]
        }
      ]
    },
    {
      "cell_type": "code",
      "source": [
        "ages = data[:, 2]\n",
        "oldest_age = np.max(ages)\n",
        "\n",
        "print(f\"The age of the oldest student is {oldest_age}.\")"
      ],
      "metadata": {
        "colab": {
          "base_uri": "https://localhost:8080/"
        },
        "id": "wb-Jk2IQByQT",
        "outputId": "00e55789-4315-49a4-82b4-d98f0b46a415"
      },
      "execution_count": null,
      "outputs": [
        {
          "output_type": "stream",
          "name": "stdout",
          "text": [
            "The age of the oldest student is 24.\n"
          ]
        }
      ]
    },
    {
      "cell_type": "code",
      "source": [
        "ages"
      ],
      "metadata": {
        "colab": {
          "base_uri": "https://localhost:8080/"
        },
        "id": "8K926qLyByUY",
        "outputId": "d35851f5-e882-4ea2-a627-194e56340f79"
      },
      "execution_count": null,
      "outputs": [
        {
          "output_type": "execute_result",
          "data": {
            "text/plain": [
              "array([19, 20, 18, 21, 19, 22, 23, 20, 19, 20, 22, 21, 24, 18, 19])"
            ]
          },
          "metadata": {},
          "execution_count": 4
        }
      ]
    },
    {
      "cell_type": "code",
      "source": [
        "courses = data[:, 4]\n",
        "index_max_courses = np.argmax(courses)+1\n",
        "\n",
        "print(f\"The index of the student who took the most courses is {index_max_courses}.\")"
      ],
      "metadata": {
        "colab": {
          "base_uri": "https://localhost:8080/"
        },
        "id": "RotubroiCm4X",
        "outputId": "063f7408-1239-40b3-9097-b060a1c9a38e"
      },
      "execution_count": null,
      "outputs": [
        {
          "output_type": "stream",
          "name": "stdout",
          "text": [
            "The index of the student who took the most courses is 12.\n"
          ]
        }
      ]
    },
    {
      "cell_type": "code",
      "source": [
        "average_grades = data[:, 3]\n",
        "num_students_above_85 = np.sum(average_grades > 85)\n",
        "\n",
        "print(f\"The number of students with an average grade above 85 is {num_students_above_85}.\")"
      ],
      "metadata": {
        "colab": {
          "base_uri": "https://localhost:8080/"
        },
        "id": "Ysbpn_BfC9SP",
        "outputId": "1550c1b3-9e76-4f2a-9ed1-31072dc4f610"
      },
      "execution_count": 7,
      "outputs": [
        {
          "output_type": "stream",
          "name": "stdout",
          "text": [
            "The number of students with an average grade above 85 is 8.\n"
          ]
        }
      ]
    },
    {
      "cell_type": "code",
      "source": [
        "ages = data[:, 2]\n",
        "average_grades = data[:, 3]\n",
        "\n",
        "ratios = ages / average_grades\n",
        "\n",
        "print(\"The ratio of each student's age to their average grade is:\")\n",
        "for index, ratio in enumerate(ratios):\n",
        "    print(f\"Student {index + 1}: {ratio:.2f}\")"
      ],
      "metadata": {
        "colab": {
          "base_uri": "https://localhost:8080/"
        },
        "id": "ib5MDSsvDEWO",
        "outputId": "5baac0a0-71f8-444b-cc15-b5af02d2a5b7"
      },
      "execution_count": 8,
      "outputs": [
        {
          "output_type": "stream",
          "name": "stdout",
          "text": [
            "The ratio of each student's age to their average grade is:\n",
            "Student 1: 0.22\n",
            "Student 2: 0.22\n",
            "Student 3: 0.23\n",
            "Student 4: 0.24\n",
            "Student 5: 0.23\n",
            "Student 6: 0.25\n",
            "Student 7: 0.25\n",
            "Student 8: 0.26\n",
            "Student 9: 0.22\n",
            "Student 10: 0.24\n",
            "Student 11: 0.25\n",
            "Student 12: 0.23\n",
            "Student 13: 0.27\n",
            "Student 14: 0.24\n",
            "Student 15: 0.23\n"
          ]
        }
      ]
    },
    {
      "cell_type": "markdown",
      "source": [
        "2nd question"
      ],
      "metadata": {
        "id": "QV0RIX8LDkp5"
      }
    },
    {
      "cell_type": "code",
      "source": [
        "import pandas as pd\n",
        "\n",
        "data = [\n",
        "    [170, 65, 19, 85, 5],\n",
        "    [180, 75, 20, 90, 6],\n",
        "    [160, 55, 18, 80, 4],\n",
        "    [175, 70, 21, 88, 7],\n",
        "    [155, 50, 19, 82, 5],\n",
        "    [165, 62, 22, 89, 6],\n",
        "    [178, 80, 23, 91, 7],\n",
        "    [162, 58, 20, 78, 3],\n",
        "    [172, 68, 19, 86, 5],\n",
        "    [169, 66, 20, 84, 4],\n",
        "    [171, 64, 22, 87, 6],\n",
        "    [177, 72, 21, 90, 9],\n",
        "    [174, 76, 24, 88, 8],\n",
        "    [158, 52, 18, 75, 3],\n",
        "    [164, 63, 19, 81, 4]\n",
        "]\n",
        "\n",
        "\n",
        "columns = ['Height', 'Weight', 'Age', 'Avg_Grade', 'Courses']\n",
        "\n",
        "df = pd.DataFrame(data, columns=columns)\n",
        "\n",
        "print(df)\n"
      ],
      "metadata": {
        "colab": {
          "base_uri": "https://localhost:8080/"
        },
        "id": "QrK4HNz2DnEg",
        "outputId": "7e6f5fe7-b884-4594-f06b-0e5e2b68ebc4"
      },
      "execution_count": 9,
      "outputs": [
        {
          "output_type": "stream",
          "name": "stdout",
          "text": [
            "    Height  Weight  Age  Avg_Grade  Courses\n",
            "0      170      65   19         85        5\n",
            "1      180      75   20         90        6\n",
            "2      160      55   18         80        4\n",
            "3      175      70   21         88        7\n",
            "4      155      50   19         82        5\n",
            "5      165      62   22         89        6\n",
            "6      178      80   23         91        7\n",
            "7      162      58   20         78        3\n",
            "8      172      68   19         86        5\n",
            "9      169      66   20         84        4\n",
            "10     171      64   22         87        6\n",
            "11     177      72   21         90        9\n",
            "12     174      76   24         88        8\n",
            "13     158      52   18         75        3\n",
            "14     164      63   19         81        4\n"
          ]
        }
      ]
    },
    {
      "cell_type": "code",
      "source": [
        "print(df.describe())"
      ],
      "metadata": {
        "colab": {
          "base_uri": "https://localhost:8080/"
        },
        "id": "MoCh6HRvDqTu",
        "outputId": "dbf42773-d812-4bf9-b349-2487e04f35fa"
      },
      "execution_count": 10,
      "outputs": [
        {
          "output_type": "stream",
          "name": "stdout",
          "text": [
            "           Height     Weight        Age  Avg_Grade    Courses\n",
            "count   15.000000  15.000000  15.000000  15.000000  15.000000\n",
            "mean   168.666667  65.066667  20.333333  84.933333   5.466667\n",
            "std      7.687343   8.811248   1.799471   4.817626   1.767430\n",
            "min    155.000000  50.000000  18.000000  75.000000   3.000000\n",
            "25%    163.000000  60.000000  19.000000  81.500000   4.000000\n",
            "50%    170.000000  65.000000  20.000000  86.000000   5.000000\n",
            "75%    174.500000  71.000000  21.500000  88.500000   6.500000\n",
            "max    180.000000  80.000000  24.000000  91.000000   9.000000\n"
          ]
        }
      ]
    },
    {
      "cell_type": "code",
      "source": [
        "age_counts = df['Age'].value_counts().sort_index()\n",
        "\n",
        "print(age_counts)"
      ],
      "metadata": {
        "colab": {
          "base_uri": "https://localhost:8080/"
        },
        "id": "d-k_HZCbD8rG",
        "outputId": "ab97a8a1-4b85-47ab-d321-0458b96eb706"
      },
      "execution_count": 11,
      "outputs": [
        {
          "output_type": "stream",
          "name": "stdout",
          "text": [
            "Age\n",
            "18    2\n",
            "19    4\n",
            "20    3\n",
            "21    2\n",
            "22    2\n",
            "23    1\n",
            "24    1\n",
            "Name: count, dtype: int64\n"
          ]
        }
      ]
    },
    {
      "cell_type": "code",
      "source": [
        "# Filter based on age\n",
        "students_greater_than_20_years = df[df['Age'] > 20]\n",
        "print(students_greater_than_20_years)"
      ],
      "metadata": {
        "colab": {
          "base_uri": "https://localhost:8080/"
        },
        "id": "wOu-qgwHEJuQ",
        "outputId": "669b234d-42cc-4bf1-f357-ecc8be4d4a86"
      },
      "execution_count": 13,
      "outputs": [
        {
          "output_type": "stream",
          "name": "stdout",
          "text": [
            "    Height  Weight  Age  Avg_Grade  Courses\n",
            "3      175      70   21         88        7\n",
            "5      165      62   22         89        6\n",
            "6      178      80   23         91        7\n",
            "10     171      64   22         87        6\n",
            "11     177      72   21         90        9\n",
            "12     174      76   24         88        8\n"
          ]
        }
      ]
    },
    {
      "cell_type": "code",
      "source": [
        "#Filter on course and avg grade\n",
        "filter2 = df[(df['Courses'] > 5) & (df['Avg_Grade'] > 85)]\n",
        "\n",
        "print(filter2)"
      ],
      "metadata": {
        "colab": {
          "base_uri": "https://localhost:8080/"
        },
        "id": "3U1z5KrsEbfb",
        "outputId": "5b3c5dd7-a715-4208-e926-f7c31480c566"
      },
      "execution_count": 14,
      "outputs": [
        {
          "output_type": "stream",
          "name": "stdout",
          "text": [
            "    Height  Weight  Age  Avg_Grade  Courses\n",
            "1      180      75   20         90        6\n",
            "3      175      70   21         88        7\n",
            "5      165      62   22         89        6\n",
            "6      178      80   23         91        7\n",
            "10     171      64   22         87        6\n",
            "11     177      72   21         90        9\n",
            "12     174      76   24         88        8\n"
          ]
        }
      ]
    },
    {
      "cell_type": "code",
      "source": [
        "age_group = df.groupby('Age')['Avg_Grade'].mean()\n",
        "print(age_group)"
      ],
      "metadata": {
        "colab": {
          "base_uri": "https://localhost:8080/"
        },
        "id": "330IIjx5Ezq-",
        "outputId": "a98953e8-a4ef-48b9-bef5-2a6f205ffeb4"
      },
      "execution_count": 15,
      "outputs": [
        {
          "output_type": "stream",
          "name": "stdout",
          "text": [
            "Age\n",
            "18    77.5\n",
            "19    83.5\n",
            "20    84.0\n",
            "21    89.0\n",
            "22    88.0\n",
            "23    91.0\n",
            "24    88.0\n",
            "Name: Avg_Grade, dtype: float64\n"
          ]
        }
      ]
    }
  ]
}